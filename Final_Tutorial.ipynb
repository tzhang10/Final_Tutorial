{
 "cells": [
  {
   "cell_type": "markdown",
   "metadata": {},
   "source": [
    "# Analyzing Baltimore's Crime Related Factors\n",
    "\n",
    "### Group member:\n",
    "Tianyu Zhang, Xinyue Li\n",
    "### Outline\n",
    "- 1. Introduction\n",
    "    - 1.1 Background Information\n",
    "    - 1.2 Library Used\n",
    "- 2. Data Collection\n",
    "    - 2.1 Data Reference\n",
    "    - 2.2 Collecting and Parsing\n",
    "    - 2.3 Cleaning data\n",
    "    - 2.4 Pre-processing\n",
    "- 3. Data Visualization & Analysis\n",
    "    - 3.1 Overall distribution\n",
    "        - 3.1.1 Age\n",
    "        - 3.1.2 Top 20 offense type\n",
    "        - 3.1.3 District\n",
    "    - 3.2 Trends over 2011-2012\n",
    "        - 3.2.1 By gender\n",
    "        - 3.2.2 By race\n",
    "- 4. Machine Learning\n",
    "- 5. Final Thoughts"
   ]
  },
  {
   "cell_type": "markdown",
   "metadata": {},
   "source": [
    "## 1. Introduction\n",
    "In our final tutorial, we decided to analyze Baltimore's crime case(proportion of gender, race, location, and offense type) and see if there is a relationship between the crime number with gender, age, and race from January 2011 to December 2012. Suppose there is no clear relationship with these factors. In that case, we are going to analyze the changes of overall crime cases over two years, like which season is the peak season for crime, and predict the future tendency for criminal cases in Baltimore. "
   ]
  },
  {
   "cell_type": "markdown",
   "metadata": {},
   "source": [
    "### 1.1 Background information and why we choose this topic \n",
    "Baltimore in Maryland is notorious for its significantly high crime rate. In 2011, there were 196 homicides reported, which was the first time the city has less than 200 homicides after 1978. Also, for us, the international students, we have heard a lot about the crime and safety issues in Baltimore since we began to choose the college to apply to. Our families were pretty worried about our safety since they saw Baltimore was close to College Park (on the map), and they didn't know the specific situation in Baltimore. After we finished project four about the Baltimore arrest cases map, my groupmate and I became more interested in the city and its arrest case information. Hence, we choose this topic and try to figure out any relationship between arrest cases and time, age, race, and gender from 2011 to 2012."
   ]
  },
  {
   "cell_type": "markdown",
   "metadata": {},
   "source": [
    "### 1.2 Library Used\n",
    "- Pandas: Used to display and organize in dataframes\n",
    "- datetime: Used to supply classes for manipulating dates and times.\n",
    "- re: Used to clean the offense type by regular expression\n",
    "- numpy: Used to make array for machine learning\n",
    "- curve_fit: Used for non-linear regression curve fitting in machine learning\n",
    "- Seaborn: Used to create plot\n",
    "- Matplotlib: Used to format plots\n",
    "- Scikit-learn: Used to create predictive model to group player into position groups"
   ]
  },
  {
   "cell_type": "code",
   "execution_count": 45,
   "metadata": {
    "scrolled": true
   },
   "outputs": [],
   "source": [
    "import pandas as pd\n",
    "import datetime\n",
    "import re\n",
    "import numpy as np\n",
    "from numpy import cos\n",
    "import matplotlib.pyplot as plt\n",
    "import seaborn as sns\n",
    "from scipy import optimize\n",
    "from scipy.optimize import curve_fit\n",
    "import sklearn\n",
    "from sklearn.linear_model import LinearRegression\n",
    "from sklearn.preprocessing import RobustScaler\n",
    "from sklearn.preprocessing import LabelEncoder"
   ]
  },
  {
   "cell_type": "markdown",
   "metadata": {},
   "source": [
    "## 2. Data Collection\n",
    "We are using the database that consists of the arrest data from 2011 to 2012 in Baltimore. The related features are gender, race, age, arrest date and time, district, and incident offense type. There are other data provided about the specific location of arrest in the database, but we are mainly analyzing the general distribution and the trends over time."
   ]
  },
  {
   "cell_type": "markdown",
   "metadata": {},
   "source": [
    "### 2.1 Data Reference\n",
    "The dataset we used is retrieved from https://cmsc320.github.io/files/BPD_Arrests.csv\n",
    "\n",
    "Another dataset is used during the analysis, but not the main database: https://datacenter.kidscount.org/data/tables/4461-juvenile-arrests?loc=22&loct=2#detailed/3/106/false/573,869,36,868,867,133,38,35,18/any/10020,15102"
   ]
  },
  {
   "cell_type": "markdown",
   "metadata": {},
   "source": [
    "### 2.2 Collection and parsing\n",
    "To begin with, we get the dataset by reading its csv file. For convenience, we splite the 'Location 1' into two parts with its lat and long as the geographic information in the type of float."
   ]
  },
  {
   "cell_type": "code",
   "execution_count": 46,
   "metadata": {},
   "outputs": [
    {
     "name": "stderr",
     "output_type": "stream",
     "text": [
      "<ipython-input-46-b29781d5f615>:2: FutureWarning: Columnar iteration over characters will be deprecated in future releases.\n",
      "  arrest_table[\"lat\"], arrest_table[\"long\"] = arrest_table[\"Location 1\"].str.split(\",\").str\n"
     ]
    },
    {
     "data": {
      "text/html": [
       "<div>\n",
       "<style scoped>\n",
       "    .dataframe tbody tr th:only-of-type {\n",
       "        vertical-align: middle;\n",
       "    }\n",
       "\n",
       "    .dataframe tbody tr th {\n",
       "        vertical-align: top;\n",
       "    }\n",
       "\n",
       "    .dataframe thead th {\n",
       "        text-align: right;\n",
       "    }\n",
       "</style>\n",
       "<table border=\"1\" class=\"dataframe\">\n",
       "  <thead>\n",
       "    <tr style=\"text-align: right;\">\n",
       "      <th></th>\n",
       "      <th>age</th>\n",
       "      <th>race</th>\n",
       "      <th>sex</th>\n",
       "      <th>arrestDate</th>\n",
       "      <th>arrestTime</th>\n",
       "      <th>incidentOffense</th>\n",
       "      <th>district</th>\n",
       "      <th>lat</th>\n",
       "      <th>long</th>\n",
       "    </tr>\n",
       "  </thead>\n",
       "  <tbody>\n",
       "    <tr>\n",
       "      <th>0</th>\n",
       "      <td>23</td>\n",
       "      <td>B</td>\n",
       "      <td>M</td>\n",
       "      <td>01/01/2011</td>\n",
       "      <td>00:00:00</td>\n",
       "      <td>Unknown Offense</td>\n",
       "      <td>NaN</td>\n",
       "      <td>NaN</td>\n",
       "      <td>NaN</td>\n",
       "    </tr>\n",
       "    <tr>\n",
       "      <th>1</th>\n",
       "      <td>37</td>\n",
       "      <td>B</td>\n",
       "      <td>M</td>\n",
       "      <td>01/01/2011</td>\n",
       "      <td>00:01:00</td>\n",
       "      <td>79-Other</td>\n",
       "      <td>SOUTHERN</td>\n",
       "      <td>39.281403</td>\n",
       "      <td>-76.648364</td>\n",
       "    </tr>\n",
       "    <tr>\n",
       "      <th>2</th>\n",
       "      <td>46</td>\n",
       "      <td>B</td>\n",
       "      <td>M</td>\n",
       "      <td>01/01/2011</td>\n",
       "      <td>00:01:00</td>\n",
       "      <td>Unknown Offense</td>\n",
       "      <td>NORTHEASTERN</td>\n",
       "      <td>39.322770</td>\n",
       "      <td>-76.573575</td>\n",
       "    </tr>\n",
       "    <tr>\n",
       "      <th>3</th>\n",
       "      <td>50</td>\n",
       "      <td>B</td>\n",
       "      <td>M</td>\n",
       "      <td>01/01/2011</td>\n",
       "      <td>00:04:00</td>\n",
       "      <td>79-Other</td>\n",
       "      <td>WESTERN</td>\n",
       "      <td>39.311720</td>\n",
       "      <td>-76.662355</td>\n",
       "    </tr>\n",
       "    <tr>\n",
       "      <th>4</th>\n",
       "      <td>33</td>\n",
       "      <td>B</td>\n",
       "      <td>M</td>\n",
       "      <td>01/01/2011</td>\n",
       "      <td>00:05:00</td>\n",
       "      <td>Unknown Offense</td>\n",
       "      <td>NORTHERN</td>\n",
       "      <td>39.338289</td>\n",
       "      <td>-76.604567</td>\n",
       "    </tr>\n",
       "  </tbody>\n",
       "</table>\n",
       "</div>"
      ],
      "text/plain": [
       "   age race sex  arrestDate arrestTime  incidentOffense      district  \\\n",
       "0   23    B   M  01/01/2011   00:00:00  Unknown Offense           NaN   \n",
       "1   37    B   M  01/01/2011   00:01:00         79-Other      SOUTHERN   \n",
       "2   46    B   M  01/01/2011   00:01:00  Unknown Offense  NORTHEASTERN   \n",
       "3   50    B   M  01/01/2011   00:04:00         79-Other       WESTERN   \n",
       "4   33    B   M  01/01/2011   00:05:00  Unknown Offense      NORTHERN   \n",
       "\n",
       "         lat       long  \n",
       "0        NaN        NaN  \n",
       "1  39.281403 -76.648364  \n",
       "2  39.322770 -76.573575  \n",
       "3  39.311720 -76.662355  \n",
       "4  39.338289 -76.604567  "
      ]
     },
     "execution_count": 46,
     "metadata": {},
     "output_type": "execute_result"
    }
   ],
   "source": [
    "arrest_table = pd.read_csv(\"https://cmsc320.github.io/files/BPD_Arrests.csv\")\n",
    "arrest_table[\"lat\"], arrest_table[\"long\"] = arrest_table[\"Location 1\"].str.split(\",\").str\n",
    "arrest_table[\"lat\"] = arrest_table[\"lat\"].str.replace(\"(\", \"\").astype(float)\n",
    "arrest_table[\"long\"] = arrest_table[\"long\"].str.replace(\")\", \"\").astype(float)\n",
    "a_table = arrest_table.loc[:, ['age', 'race','sex','arrestDate','arrestTime', 'incidentOffense', 'district', 'lat', 'long']]\n",
    "a_table.head()"
   ]
  },
  {
   "cell_type": "markdown",
   "metadata": {},
   "source": [
    "### 2.3 Cleaning data\n",
    "We remove the incorrect, duplicate and incomplete data in the cells.(Observed by unique() function and subjectively identifed)\n",
    "1. drop the data with age 0\n",
    "2. group by the ages\n",
    "3. clean up the offense type by ignoring the subtype\n",
    "4. change date into year-month format"
   ]
  },
  {
   "cell_type": "markdown",
   "metadata": {},
   "source": [
    "#### 2.3.1 drop the data with age 0\n",
    "\n",
    "By unique() function and viewing over the dataset, we found that there are some records saying the arrest's age is 0, which is nonsense and should be caused by missing data or system error. This might be influential to the analysis we will make further, so we clean it by dropping the related rows."
   ]
  },
  {
   "cell_type": "code",
   "execution_count": 47,
   "metadata": {},
   "outputs": [
    {
     "data": {
      "text/html": [
       "<div>\n",
       "<style scoped>\n",
       "    .dataframe tbody tr th:only-of-type {\n",
       "        vertical-align: middle;\n",
       "    }\n",
       "\n",
       "    .dataframe tbody tr th {\n",
       "        vertical-align: top;\n",
       "    }\n",
       "\n",
       "    .dataframe thead th {\n",
       "        text-align: right;\n",
       "    }\n",
       "</style>\n",
       "<table border=\"1\" class=\"dataframe\">\n",
       "  <thead>\n",
       "    <tr style=\"text-align: right;\">\n",
       "      <th></th>\n",
       "      <th>age</th>\n",
       "      <th>race</th>\n",
       "      <th>sex</th>\n",
       "      <th>arrestDate</th>\n",
       "      <th>arrestTime</th>\n",
       "      <th>incidentOffense</th>\n",
       "      <th>district</th>\n",
       "      <th>lat</th>\n",
       "      <th>long</th>\n",
       "    </tr>\n",
       "  </thead>\n",
       "  <tbody>\n",
       "    <tr>\n",
       "      <th>0</th>\n",
       "      <td>23</td>\n",
       "      <td>B</td>\n",
       "      <td>M</td>\n",
       "      <td>01/01/2011</td>\n",
       "      <td>00:00:00</td>\n",
       "      <td>Unknown Offense</td>\n",
       "      <td>NaN</td>\n",
       "      <td>NaN</td>\n",
       "      <td>NaN</td>\n",
       "    </tr>\n",
       "    <tr>\n",
       "      <th>1</th>\n",
       "      <td>37</td>\n",
       "      <td>B</td>\n",
       "      <td>M</td>\n",
       "      <td>01/01/2011</td>\n",
       "      <td>00:01:00</td>\n",
       "      <td>79-Other</td>\n",
       "      <td>SOUTHERN</td>\n",
       "      <td>39.281403</td>\n",
       "      <td>-76.648364</td>\n",
       "    </tr>\n",
       "    <tr>\n",
       "      <th>2</th>\n",
       "      <td>46</td>\n",
       "      <td>B</td>\n",
       "      <td>M</td>\n",
       "      <td>01/01/2011</td>\n",
       "      <td>00:01:00</td>\n",
       "      <td>Unknown Offense</td>\n",
       "      <td>NORTHEASTERN</td>\n",
       "      <td>39.322770</td>\n",
       "      <td>-76.573575</td>\n",
       "    </tr>\n",
       "    <tr>\n",
       "      <th>3</th>\n",
       "      <td>50</td>\n",
       "      <td>B</td>\n",
       "      <td>M</td>\n",
       "      <td>01/01/2011</td>\n",
       "      <td>00:04:00</td>\n",
       "      <td>79-Other</td>\n",
       "      <td>WESTERN</td>\n",
       "      <td>39.311720</td>\n",
       "      <td>-76.662355</td>\n",
       "    </tr>\n",
       "    <tr>\n",
       "      <th>4</th>\n",
       "      <td>33</td>\n",
       "      <td>B</td>\n",
       "      <td>M</td>\n",
       "      <td>01/01/2011</td>\n",
       "      <td>00:05:00</td>\n",
       "      <td>Unknown Offense</td>\n",
       "      <td>NORTHERN</td>\n",
       "      <td>39.338289</td>\n",
       "      <td>-76.604567</td>\n",
       "    </tr>\n",
       "  </tbody>\n",
       "</table>\n",
       "</div>"
      ],
      "text/plain": [
       "   age race sex  arrestDate arrestTime  incidentOffense      district  \\\n",
       "0   23    B   M  01/01/2011   00:00:00  Unknown Offense           NaN   \n",
       "1   37    B   M  01/01/2011   00:01:00         79-Other      SOUTHERN   \n",
       "2   46    B   M  01/01/2011   00:01:00  Unknown Offense  NORTHEASTERN   \n",
       "3   50    B   M  01/01/2011   00:04:00         79-Other       WESTERN   \n",
       "4   33    B   M  01/01/2011   00:05:00  Unknown Offense      NORTHERN   \n",
       "\n",
       "         lat       long  \n",
       "0        NaN        NaN  \n",
       "1  39.281403 -76.648364  \n",
       "2  39.322770 -76.573575  \n",
       "3  39.311720 -76.662355  \n",
       "4  39.338289 -76.604567  "
      ]
     },
     "execution_count": 47,
     "metadata": {},
     "output_type": "execute_result"
    }
   ],
   "source": [
    "a_table = a_table[a_table.age != 0]\n",
    "a_table = a_table.reset_index(drop=True)\n",
    "a_table.head()"
   ]
  },
  {
   "cell_type": "markdown",
   "metadata": {},
   "source": [
    "#### 2.3.2 group by the ages\n",
    "To make it easier to visualize the relationship between age stage and arrested number, we group the arrested cases by their ages and set them into six different age stages, which are 0-17 18-29 30-39 40-49 50-59 and 60-90. Except the first and last stages, the other age intervals all have 10 years as their range. Also, the first and last intervals are special since the contained cases are already relatively small, which means if we splite them into 10 years bin, it wouldn't be helpful for visualization. "
   ]
  },
  {
   "cell_type": "code",
   "execution_count": 48,
   "metadata": {},
   "outputs": [
    {
     "data": {
      "text/html": [
       "<div>\n",
       "<style scoped>\n",
       "    .dataframe tbody tr th:only-of-type {\n",
       "        vertical-align: middle;\n",
       "    }\n",
       "\n",
       "    .dataframe tbody tr th {\n",
       "        vertical-align: top;\n",
       "    }\n",
       "\n",
       "    .dataframe thead th {\n",
       "        text-align: right;\n",
       "    }\n",
       "</style>\n",
       "<table border=\"1\" class=\"dataframe\">\n",
       "  <thead>\n",
       "    <tr style=\"text-align: right;\">\n",
       "      <th></th>\n",
       "      <th>age</th>\n",
       "      <th>race</th>\n",
       "      <th>sex</th>\n",
       "      <th>arrestDate</th>\n",
       "      <th>arrestTime</th>\n",
       "      <th>incidentOffense</th>\n",
       "      <th>district</th>\n",
       "      <th>lat</th>\n",
       "      <th>long</th>\n",
       "      <th>age_group</th>\n",
       "    </tr>\n",
       "  </thead>\n",
       "  <tbody>\n",
       "    <tr>\n",
       "      <th>0</th>\n",
       "      <td>23</td>\n",
       "      <td>B</td>\n",
       "      <td>M</td>\n",
       "      <td>01/01/2011</td>\n",
       "      <td>00:00:00</td>\n",
       "      <td>Unknown Offense</td>\n",
       "      <td>NaN</td>\n",
       "      <td>NaN</td>\n",
       "      <td>NaN</td>\n",
       "      <td>(17, 29]</td>\n",
       "    </tr>\n",
       "    <tr>\n",
       "      <th>1</th>\n",
       "      <td>37</td>\n",
       "      <td>B</td>\n",
       "      <td>M</td>\n",
       "      <td>01/01/2011</td>\n",
       "      <td>00:01:00</td>\n",
       "      <td>79-Other</td>\n",
       "      <td>SOUTHERN</td>\n",
       "      <td>39.281403</td>\n",
       "      <td>-76.648364</td>\n",
       "      <td>(29, 39]</td>\n",
       "    </tr>\n",
       "    <tr>\n",
       "      <th>2</th>\n",
       "      <td>46</td>\n",
       "      <td>B</td>\n",
       "      <td>M</td>\n",
       "      <td>01/01/2011</td>\n",
       "      <td>00:01:00</td>\n",
       "      <td>Unknown Offense</td>\n",
       "      <td>NORTHEASTERN</td>\n",
       "      <td>39.322770</td>\n",
       "      <td>-76.573575</td>\n",
       "      <td>(39, 49]</td>\n",
       "    </tr>\n",
       "    <tr>\n",
       "      <th>3</th>\n",
       "      <td>50</td>\n",
       "      <td>B</td>\n",
       "      <td>M</td>\n",
       "      <td>01/01/2011</td>\n",
       "      <td>00:04:00</td>\n",
       "      <td>79-Other</td>\n",
       "      <td>WESTERN</td>\n",
       "      <td>39.311720</td>\n",
       "      <td>-76.662355</td>\n",
       "      <td>(49, 59]</td>\n",
       "    </tr>\n",
       "    <tr>\n",
       "      <th>4</th>\n",
       "      <td>33</td>\n",
       "      <td>B</td>\n",
       "      <td>M</td>\n",
       "      <td>01/01/2011</td>\n",
       "      <td>00:05:00</td>\n",
       "      <td>Unknown Offense</td>\n",
       "      <td>NORTHERN</td>\n",
       "      <td>39.338289</td>\n",
       "      <td>-76.604567</td>\n",
       "      <td>(29, 39]</td>\n",
       "    </tr>\n",
       "  </tbody>\n",
       "</table>\n",
       "</div>"
      ],
      "text/plain": [
       "   age race sex  arrestDate arrestTime  incidentOffense      district  \\\n",
       "0   23    B   M  01/01/2011   00:00:00  Unknown Offense           NaN   \n",
       "1   37    B   M  01/01/2011   00:01:00         79-Other      SOUTHERN   \n",
       "2   46    B   M  01/01/2011   00:01:00  Unknown Offense  NORTHEASTERN   \n",
       "3   50    B   M  01/01/2011   00:04:00         79-Other       WESTERN   \n",
       "4   33    B   M  01/01/2011   00:05:00  Unknown Offense      NORTHERN   \n",
       "\n",
       "         lat       long age_group  \n",
       "0        NaN        NaN  (17, 29]  \n",
       "1  39.281403 -76.648364  (29, 39]  \n",
       "2  39.322770 -76.573575  (39, 49]  \n",
       "3  39.311720 -76.662355  (49, 59]  \n",
       "4  39.338289 -76.604567  (29, 39]  "
      ]
     },
     "execution_count": 48,
     "metadata": {},
     "output_type": "execute_result"
    }
   ],
   "source": [
    "# group the data by age\n",
    "bins = [0,17,29,39,49,59,90]\n",
    "a_table['age_group'] = pd.cut(a_table['age'], bins)\n",
    "\n",
    "a_table.head()"
   ]
  },
  {
   "cell_type": "code",
   "execution_count": 49,
   "metadata": {},
   "outputs": [
    {
     "name": "stdout",
     "output_type": "stream",
     "text": [
      "(0, 17] 440\n",
      "(17, 29] 49278\n",
      "(29, 39] 22069\n",
      "(39, 49] 20846\n",
      "(49, 59] 10133\n",
      "(59, 90] 1739\n"
     ]
    }
   ],
   "source": [
    "# Create a new groupby object `grouped2` with year_group as the column\n",
    "grouped2 = a_table.groupby(by='age_group')\n",
    "age_label = []\n",
    "age_count = []\n",
    "for name, group in grouped2:\n",
    "    age_label.append(str(name))\n",
    "    age_count.append(len(group))\n",
    "    print(name, len(group))"
   ]
  },
  {
   "cell_type": "markdown",
   "metadata": {},
   "source": [
    "#### 2.3.3 clean up the offense type by ignoring the subtype\n",
    "After cleaning the age column, we also found that the offense type column is also a cluster with some duplicated types. For example, by unique() function, we can see that there are many type 6 offenses like 6D-Larceny- From Auto, 6C-Larceny- Shoplifting, 6E-Larceny- Auto Acc, 6H-Larceny- From Machine, etc. However, all of them are under the offense name of 'Larceny.' Hence, we decided to clean this data column to ensure the result in further operations will be accurate and correct."
   ]
  },
  {
   "cell_type": "code",
   "execution_count": 50,
   "metadata": {},
   "outputs": [
    {
     "data": {
      "text/plain": [
       "array(['Unknown Offense', '79-Other', '81-Recovered Property',\n",
       "       '54-Armed Person', '20A-Followup', '4E-Common Assault',\n",
       "       '7A-Stolen Auto', '87-Narcotics', '4B-Agg. Asslt.- Cut',\n",
       "       '75-Destruct. Of Property', '55-Disorderly Person',\n",
       "       '4C-Agg. Asslt.- Oth.', '49-Family Disturbance',\n",
       "       '4D-Agg. Asslt.- Hand', '3B-Robb Highway (Ua)',\n",
       "       '6D-Larceny- From Auto', '5A-Burg. Res. (Force)',\n",
       "       '111-Protective Order', '24-Towed Vehicle',\n",
       "       '87O-Narcotics (Outside)', '29-Driving While Intox.',\n",
       "       '6G-Larceny- From Bldg.', '97-Search & Seizure',\n",
       "       '55A-Prostitution', '115-Trespassing', '5D-Burg. Oth. (Force)',\n",
       "       '85-Mental Case', '5B-Burg. Res. (Att.)', '6J-Larceny- Other',\n",
       "       '23-Unauthorized Use', '3JK-Robb Residence-Knife',\n",
       "       '4F-Assault By Threat', '3LF-Robb Bank-Firearm',\n",
       "       '6C-Larceny- Shoplifting', '4A-Agg. Asslt.- Gun',\n",
       "       '61-Person Wanted On War', '8J-Arson Other', '109-Loitering',\n",
       "       '6E-Larceny- Auto Acc', '3AF-Robb Hwy-Firearm',\n",
       "       '88-Unfounded Call', '3K-Robb Res. (Ua)', '26-Recovered Vehicle',\n",
       "       '56-Missing Person', '73-False Pretense', '3AK-Robb Hwy-Knife',\n",
       "       '3JF-Robb Residence-Firearm', '5C-Burg. Res. (Noforce)',\n",
       "       '5E-Burg. Oth. (Att.)', '52A-Animal Cruelty',\n",
       "       '20H-Traffic Control', '2F-Placing Hands', '1A-Murder',\n",
       "       '3JO-Robb Residence-Other Wpn', '2A-Rape (Force)',\n",
       "       '3CK-Robb Comm-Knife', '80-Lost Property',\n",
       "       '3AJF-Robb Carjack-Firearm', '6L-Larceny- From Locker',\n",
       "       '71-Sex Offender Registry', '2D-Statutory Rape',\n",
       "       '83-Discharging Firearm', '5F-Burg. Oth. (Noforce)',\n",
       "       '3D-Robb Comm. (Ua)', '116-Public Urination / Defecation',\n",
       "       '3CF-Robb Comm-Firearm', '6B-Larceny- Purse Snatch',\n",
       "       '48-Involuntary Detention', '95-Exparte', '102-Questional Death',\n",
       "       '3AJK-Robb Carjack-Knife', '98-Child Neglect',\n",
       "       '3GF-Robb Conv Store-Firearm', '114-Hindering',\n",
       "       '2G-Sodomy/Perverson', '103-Dead On Arrival', '96-Stop & Frisk',\n",
       "       '112-Traffic Related Incident', '3P-Robb Misc. (Ua)',\n",
       "       '78-Gambling', '3BJ-Robb Carjack(Ua)', '3CO-Robb Comm-Other Wpn',\n",
       "       '67-Child Abuse-Physical', '2B-Rape (Attempt)', '2H-Indecent Exp.',\n",
       "       '108-Liquor Law/Open Container', '3H-Robb Conv. Stor.(Ua)',\n",
       "       '3NO-Robb Misc-Other Wpn', '117-Fto', '8AO-Arson Sin Res Str-Occ',\n",
       "       '3NF-Robb Misc-Firearm', '3AO-Robb Hwy-Other Wpn', '84-Bomb Scare',\n",
       "       '70A-Ill. Dumping', '13-Assist Officer', '76-Child Abuse-Sexual',\n",
       "       '3LO-Robb Bank-Other Wpn', '7C-Stolen Veh./Other', '113-Littering',\n",
       "       '3NK-Robb Misc-Knife', '2J-Other Sex Offn.', '58-Injured Person',\n",
       "       '106-Custody Dispute', '20J-', '39-Fire', '6F-Larceny- Bicycle',\n",
       "       '6H-Larceny- From Machine', '104-Malicious Burning',\n",
       "       '8H-Arson Motor Veh', '60-Sick Person', '110-Summons Served',\n",
       "       '93-Abduction - Other', '6A-Larceny- Pickpocket',\n",
       "       '3GO-Robb Conv Store-Other Wpn', '8EO-Arson Oth Comm Str-Occ',\n",
       "       '94-Abduction By Parent', '28-Suicide - Attempt',\n",
       "       '59-Intoxicated Person', '3F-Robb Gas Sta. (Ua)',\n",
       "       '64-Drug Free Zone', '6K-Larceny- Park. Meter',\n",
       "       '3EK-Robb Gas Station-Knife', '2C-Carnal Knowledge',\n",
       "       '3M-Robb Bank (Ua)', '3EF-Robb Gas Station-Firearm',\n",
       "       '70-Sanitation Complaint', '8BO-Arson Oth Res Str-Occ',\n",
       "       '8FO-Arson Public Str-Occ', '77-Dog Bite',\n",
       "       '3GK-Robb Conv Store-Knife', '62-Person Lying On St.',\n",
       "       '8I-Arson Other Mobile'], dtype=object)"
      ]
     },
     "execution_count": 50,
     "metadata": {},
     "output_type": "execute_result"
    }
   ],
   "source": [
    "# find the types of incident offense\n",
    "a_table['incidentOffense'].unique()"
   ]
  },
  {
   "cell_type": "markdown",
   "metadata": {},
   "source": [
    "We relabel the offense types with their type ID by ignoring the subtypes of them and set them into a new column named offense_type. Then we drop the original duplicated column. For further use, we collected the offense type names with different type IDs in the list called offense_label, which can be used in collecting results and analyzing our conclusion."
   ]
  },
  {
   "cell_type": "code",
   "execution_count": 51,
   "metadata": {
    "scrolled": true
   },
   "outputs": [
    {
     "data": {
      "text/html": [
       "<div>\n",
       "<style scoped>\n",
       "    .dataframe tbody tr th:only-of-type {\n",
       "        vertical-align: middle;\n",
       "    }\n",
       "\n",
       "    .dataframe tbody tr th {\n",
       "        vertical-align: top;\n",
       "    }\n",
       "\n",
       "    .dataframe thead th {\n",
       "        text-align: right;\n",
       "    }\n",
       "</style>\n",
       "<table border=\"1\" class=\"dataframe\">\n",
       "  <thead>\n",
       "    <tr style=\"text-align: right;\">\n",
       "      <th></th>\n",
       "      <th>age</th>\n",
       "      <th>race</th>\n",
       "      <th>sex</th>\n",
       "      <th>arrestDate</th>\n",
       "      <th>arrestTime</th>\n",
       "      <th>incidentOffense</th>\n",
       "      <th>district</th>\n",
       "      <th>lat</th>\n",
       "      <th>long</th>\n",
       "      <th>age_group</th>\n",
       "      <th>offense_type</th>\n",
       "    </tr>\n",
       "  </thead>\n",
       "  <tbody>\n",
       "    <tr>\n",
       "      <th>0</th>\n",
       "      <td>23</td>\n",
       "      <td>B</td>\n",
       "      <td>M</td>\n",
       "      <td>01/01/2011</td>\n",
       "      <td>00:00:00</td>\n",
       "      <td>Unknown Offense</td>\n",
       "      <td>NaN</td>\n",
       "      <td>NaN</td>\n",
       "      <td>NaN</td>\n",
       "      <td>(17, 29]</td>\n",
       "      <td>0.0</td>\n",
       "    </tr>\n",
       "    <tr>\n",
       "      <th>1</th>\n",
       "      <td>37</td>\n",
       "      <td>B</td>\n",
       "      <td>M</td>\n",
       "      <td>01/01/2011</td>\n",
       "      <td>00:01:00</td>\n",
       "      <td>79-Other</td>\n",
       "      <td>SOUTHERN</td>\n",
       "      <td>39.281403</td>\n",
       "      <td>-76.648364</td>\n",
       "      <td>(29, 39]</td>\n",
       "      <td>79.0</td>\n",
       "    </tr>\n",
       "    <tr>\n",
       "      <th>2</th>\n",
       "      <td>46</td>\n",
       "      <td>B</td>\n",
       "      <td>M</td>\n",
       "      <td>01/01/2011</td>\n",
       "      <td>00:01:00</td>\n",
       "      <td>Unknown Offense</td>\n",
       "      <td>NORTHEASTERN</td>\n",
       "      <td>39.322770</td>\n",
       "      <td>-76.573575</td>\n",
       "      <td>(39, 49]</td>\n",
       "      <td>0.0</td>\n",
       "    </tr>\n",
       "    <tr>\n",
       "      <th>3</th>\n",
       "      <td>50</td>\n",
       "      <td>B</td>\n",
       "      <td>M</td>\n",
       "      <td>01/01/2011</td>\n",
       "      <td>00:04:00</td>\n",
       "      <td>79-Other</td>\n",
       "      <td>WESTERN</td>\n",
       "      <td>39.311720</td>\n",
       "      <td>-76.662355</td>\n",
       "      <td>(49, 59]</td>\n",
       "      <td>79.0</td>\n",
       "    </tr>\n",
       "    <tr>\n",
       "      <th>4</th>\n",
       "      <td>33</td>\n",
       "      <td>B</td>\n",
       "      <td>M</td>\n",
       "      <td>01/01/2011</td>\n",
       "      <td>00:05:00</td>\n",
       "      <td>Unknown Offense</td>\n",
       "      <td>NORTHERN</td>\n",
       "      <td>39.338289</td>\n",
       "      <td>-76.604567</td>\n",
       "      <td>(29, 39]</td>\n",
       "      <td>0.0</td>\n",
       "    </tr>\n",
       "    <tr>\n",
       "      <th>...</th>\n",
       "      <td>...</td>\n",
       "      <td>...</td>\n",
       "      <td>...</td>\n",
       "      <td>...</td>\n",
       "      <td>...</td>\n",
       "      <td>...</td>\n",
       "      <td>...</td>\n",
       "      <td>...</td>\n",
       "      <td>...</td>\n",
       "      <td>...</td>\n",
       "      <td>...</td>\n",
       "    </tr>\n",
       "    <tr>\n",
       "      <th>104500</th>\n",
       "      <td>27</td>\n",
       "      <td>B</td>\n",
       "      <td>M</td>\n",
       "      <td>12/31/2012</td>\n",
       "      <td>23:10:00</td>\n",
       "      <td>Unknown Offense</td>\n",
       "      <td>CENTRAL</td>\n",
       "      <td>39.289332</td>\n",
       "      <td>-76.621002</td>\n",
       "      <td>(17, 29]</td>\n",
       "      <td>0.0</td>\n",
       "    </tr>\n",
       "    <tr>\n",
       "      <th>104501</th>\n",
       "      <td>34</td>\n",
       "      <td>B</td>\n",
       "      <td>M</td>\n",
       "      <td>12/31/2012</td>\n",
       "      <td>23:30:00</td>\n",
       "      <td>4E-Common Assault</td>\n",
       "      <td>NORTHEASTERN</td>\n",
       "      <td>39.325261</td>\n",
       "      <td>-76.568903</td>\n",
       "      <td>(29, 39]</td>\n",
       "      <td>4.0</td>\n",
       "    </tr>\n",
       "    <tr>\n",
       "      <th>104502</th>\n",
       "      <td>38</td>\n",
       "      <td>B</td>\n",
       "      <td>M</td>\n",
       "      <td>12/31/2012</td>\n",
       "      <td>23:40:00</td>\n",
       "      <td>87-Narcotics</td>\n",
       "      <td>WESTERN</td>\n",
       "      <td>39.311684</td>\n",
       "      <td>-76.647501</td>\n",
       "      <td>(29, 39]</td>\n",
       "      <td>87.0</td>\n",
       "    </tr>\n",
       "    <tr>\n",
       "      <th>104503</th>\n",
       "      <td>18</td>\n",
       "      <td>W</td>\n",
       "      <td>F</td>\n",
       "      <td>12/31/2012</td>\n",
       "      <td>23:43:00</td>\n",
       "      <td>Unknown Offense</td>\n",
       "      <td>NaN</td>\n",
       "      <td>NaN</td>\n",
       "      <td>NaN</td>\n",
       "      <td>(17, 29]</td>\n",
       "      <td>0.0</td>\n",
       "    </tr>\n",
       "    <tr>\n",
       "      <th>104504</th>\n",
       "      <td>43</td>\n",
       "      <td>B</td>\n",
       "      <td>F</td>\n",
       "      <td>12/31/2012</td>\n",
       "      <td>23:55:00</td>\n",
       "      <td>4C-Agg. Asslt.- Oth.</td>\n",
       "      <td>NORTHWESTERN</td>\n",
       "      <td>39.336105</td>\n",
       "      <td>-76.667151</td>\n",
       "      <td>(39, 49]</td>\n",
       "      <td>4.0</td>\n",
       "    </tr>\n",
       "  </tbody>\n",
       "</table>\n",
       "<p>104505 rows × 11 columns</p>\n",
       "</div>"
      ],
      "text/plain": [
       "        age race sex  arrestDate arrestTime       incidentOffense  \\\n",
       "0        23    B   M  01/01/2011   00:00:00       Unknown Offense   \n",
       "1        37    B   M  01/01/2011   00:01:00              79-Other   \n",
       "2        46    B   M  01/01/2011   00:01:00       Unknown Offense   \n",
       "3        50    B   M  01/01/2011   00:04:00              79-Other   \n",
       "4        33    B   M  01/01/2011   00:05:00       Unknown Offense   \n",
       "...     ...  ...  ..         ...        ...                   ...   \n",
       "104500   27    B   M  12/31/2012   23:10:00       Unknown Offense   \n",
       "104501   34    B   M  12/31/2012   23:30:00     4E-Common Assault   \n",
       "104502   38    B   M  12/31/2012   23:40:00          87-Narcotics   \n",
       "104503   18    W   F  12/31/2012   23:43:00       Unknown Offense   \n",
       "104504   43    B   F  12/31/2012   23:55:00  4C-Agg. Asslt.- Oth.   \n",
       "\n",
       "            district        lat       long age_group  offense_type  \n",
       "0                NaN        NaN        NaN  (17, 29]           0.0  \n",
       "1           SOUTHERN  39.281403 -76.648364  (29, 39]          79.0  \n",
       "2       NORTHEASTERN  39.322770 -76.573575  (39, 49]           0.0  \n",
       "3            WESTERN  39.311720 -76.662355  (49, 59]          79.0  \n",
       "4           NORTHERN  39.338289 -76.604567  (29, 39]           0.0  \n",
       "...              ...        ...        ...       ...           ...  \n",
       "104500       CENTRAL  39.289332 -76.621002  (17, 29]           0.0  \n",
       "104501  NORTHEASTERN  39.325261 -76.568903  (29, 39]           4.0  \n",
       "104502       WESTERN  39.311684 -76.647501  (29, 39]          87.0  \n",
       "104503           NaN        NaN        NaN  (17, 29]           0.0  \n",
       "104504  NORTHWESTERN  39.336105 -76.667151  (39, 49]           4.0  \n",
       "\n",
       "[104505 rows x 11 columns]"
      ]
     },
     "execution_count": 51,
     "metadata": {},
     "output_type": "execute_result"
    }
   ],
   "source": [
    "# ignore the subtypes of the offense\n",
    "offense_label = [\n",
    "    '1-Murder',\n",
    "    '2-Sexual Asslt.',\n",
    "    '3-Robbery',\n",
    "    '4-Agg. Asslt.',\n",
    "    '5-Burglary',\n",
    "    '6-Larceny',\n",
    "    '7-Stolen Property',\n",
    "    '8-Arson',\n",
    "    '13-Assist Officer',\n",
    "    '20-Traffic',\n",
    "    '23-Unauthorized Use',\n",
    "    '24-Towed Vehicle',\n",
    "    '26-Recovered Vehicle',\n",
    "    '28-Suicide - Attempt',\n",
    "    '29-Driving While Intox.',\n",
    "    '39-Fire',\n",
    "    '48-Involuntary Detention',\n",
    "    '49-Family Disturbance',\n",
    "    '52-Animal Cruelty',\n",
    "    '54-Armed Person',\n",
    "    '55-Disorderly Person',\n",
    "    '56-Missing Person',\n",
    "    '58-Injured Person',\n",
    "    '59-Intoxicated Person',\n",
    "    '60-Sick Person',\n",
    "    '61-Person Wanted On War',\n",
    "    '62-Person Lying On St.',\n",
    "    '64-Drug Free Zone',\n",
    "    '67-Child Abuse-Physical',\n",
    "    '70-Sanitation Complaint',\n",
    "    '71-Sex Offender Registry',\n",
    "    '73-False Pretense',\n",
    "    '75-Destruct. Of Property',\n",
    "    '76-Child Abuse-Sexual',\n",
    "    '77-Dog Bite',\n",
    "    '78-Gambling',\n",
    "    '79-Other',\n",
    "    '80-Lost Property',\n",
    "    '81-Recovered Property',\n",
    "    '83-Discharging Firearm',\n",
    "    '84-Bomb Scare',\n",
    "    '85-Mental Case',\n",
    "    '87-Narcotics',\n",
    "    '88-Unfounded Call',\n",
    "    '93-Abduction - Other',\n",
    "    '94-Abduction By Parent',\n",
    "    '95-Exparte',\n",
    "    '96-Stop & Frisk',\n",
    "    '97-Search & Seizure',\n",
    "    '98-Child Neglect',\n",
    "    '102-Questional Death',\n",
    "    '103-Dead On Arrival',\n",
    "    '112-Traffic Related Incident',\n",
    "    '106-Custody Dispute',\n",
    "    '108-Liquor Law/Open Container',\n",
    "    '109-Loitering',\n",
    "    '110-Summons Served',\n",
    "    '111-Protective Order',\n",
    "    '112-Traffic Related Incident',\n",
    "    '113-Littering',\n",
    "    '114-Hindering',\n",
    "    '115-Trespassing',\n",
    "    '116-Public Urination / Defecation',\n",
    "    '117-Fto',\n",
    "    'Unknown Offense',\n",
    "]\n",
    "\n",
    "a_table['offense_type'] = np.nan\n",
    "for idx, row in a_table.iterrows():\n",
    "    if  row['incidentOffense'] == \"Unknown Offense\":\n",
    "        a_table.loc[idx, 'offense_type'] = 0\n",
    "    else:\n",
    "        a_table.loc[idx, 'offense_type'] = int(re.search(r'\\d+', row['incidentOffense']).group())          \n",
    "a_table"
   ]
  },
  {
   "cell_type": "markdown",
   "metadata": {},
   "source": [
    "#### 2.3.4 change date into year-month format\n",
    "To figure out the relationship between different factors and time, we need to transfer the column info into DateTime and year-month format (if we keep the original year-month-day format, the plot will be zigzag and not helpful for analysis)."
   ]
  },
  {
   "cell_type": "code",
   "execution_count": 52,
   "metadata": {
    "scrolled": true
   },
   "outputs": [
    {
     "data": {
      "text/html": [
       "<div>\n",
       "<style scoped>\n",
       "    .dataframe tbody tr th:only-of-type {\n",
       "        vertical-align: middle;\n",
       "    }\n",
       "\n",
       "    .dataframe tbody tr th {\n",
       "        vertical-align: top;\n",
       "    }\n",
       "\n",
       "    .dataframe thead th {\n",
       "        text-align: right;\n",
       "    }\n",
       "</style>\n",
       "<table border=\"1\" class=\"dataframe\">\n",
       "  <thead>\n",
       "    <tr style=\"text-align: right;\">\n",
       "      <th></th>\n",
       "      <th>age</th>\n",
       "      <th>race</th>\n",
       "      <th>sex</th>\n",
       "      <th>arrestDate</th>\n",
       "      <th>arrestTime</th>\n",
       "      <th>incidentOffense</th>\n",
       "      <th>district</th>\n",
       "      <th>lat</th>\n",
       "      <th>long</th>\n",
       "      <th>age_group</th>\n",
       "      <th>offense_type</th>\n",
       "    </tr>\n",
       "  </thead>\n",
       "  <tbody>\n",
       "    <tr>\n",
       "      <th>0</th>\n",
       "      <td>23</td>\n",
       "      <td>B</td>\n",
       "      <td>M</td>\n",
       "      <td>2011-1</td>\n",
       "      <td>00:00:00</td>\n",
       "      <td>Unknown Offense</td>\n",
       "      <td>NaN</td>\n",
       "      <td>NaN</td>\n",
       "      <td>NaN</td>\n",
       "      <td>(17, 29]</td>\n",
       "      <td>0.0</td>\n",
       "    </tr>\n",
       "    <tr>\n",
       "      <th>1</th>\n",
       "      <td>37</td>\n",
       "      <td>B</td>\n",
       "      <td>M</td>\n",
       "      <td>2011-1</td>\n",
       "      <td>00:01:00</td>\n",
       "      <td>79-Other</td>\n",
       "      <td>SOUTHERN</td>\n",
       "      <td>39.281403</td>\n",
       "      <td>-76.648364</td>\n",
       "      <td>(29, 39]</td>\n",
       "      <td>79.0</td>\n",
       "    </tr>\n",
       "    <tr>\n",
       "      <th>2</th>\n",
       "      <td>46</td>\n",
       "      <td>B</td>\n",
       "      <td>M</td>\n",
       "      <td>2011-1</td>\n",
       "      <td>00:01:00</td>\n",
       "      <td>Unknown Offense</td>\n",
       "      <td>NORTHEASTERN</td>\n",
       "      <td>39.322770</td>\n",
       "      <td>-76.573575</td>\n",
       "      <td>(39, 49]</td>\n",
       "      <td>0.0</td>\n",
       "    </tr>\n",
       "    <tr>\n",
       "      <th>3</th>\n",
       "      <td>50</td>\n",
       "      <td>B</td>\n",
       "      <td>M</td>\n",
       "      <td>2011-1</td>\n",
       "      <td>00:04:00</td>\n",
       "      <td>79-Other</td>\n",
       "      <td>WESTERN</td>\n",
       "      <td>39.311720</td>\n",
       "      <td>-76.662355</td>\n",
       "      <td>(49, 59]</td>\n",
       "      <td>79.0</td>\n",
       "    </tr>\n",
       "    <tr>\n",
       "      <th>4</th>\n",
       "      <td>33</td>\n",
       "      <td>B</td>\n",
       "      <td>M</td>\n",
       "      <td>2011-1</td>\n",
       "      <td>00:05:00</td>\n",
       "      <td>Unknown Offense</td>\n",
       "      <td>NORTHERN</td>\n",
       "      <td>39.338289</td>\n",
       "      <td>-76.604567</td>\n",
       "      <td>(29, 39]</td>\n",
       "      <td>0.0</td>\n",
       "    </tr>\n",
       "  </tbody>\n",
       "</table>\n",
       "</div>"
      ],
      "text/plain": [
       "   age race sex arrestDate arrestTime  incidentOffense      district  \\\n",
       "0   23    B   M     2011-1   00:00:00  Unknown Offense           NaN   \n",
       "1   37    B   M     2011-1   00:01:00         79-Other      SOUTHERN   \n",
       "2   46    B   M     2011-1   00:01:00  Unknown Offense  NORTHEASTERN   \n",
       "3   50    B   M     2011-1   00:04:00         79-Other       WESTERN   \n",
       "4   33    B   M     2011-1   00:05:00  Unknown Offense      NORTHERN   \n",
       "\n",
       "         lat       long age_group  offense_type  \n",
       "0        NaN        NaN  (17, 29]           0.0  \n",
       "1  39.281403 -76.648364  (29, 39]          79.0  \n",
       "2  39.322770 -76.573575  (39, 49]           0.0  \n",
       "3  39.311720 -76.662355  (49, 59]          79.0  \n",
       "4  39.338289 -76.604567  (29, 39]           0.0  "
      ]
     },
     "execution_count": 52,
     "metadata": {},
     "output_type": "execute_result"
    }
   ],
   "source": [
    "# change the arrest date into \"year-month\" format\n",
    "a_table['arrestDate'] = pd.to_datetime(a_table['arrestDate']).apply(lambda x: '{year}-{month}'.format(year=x.year, month=x.month))\n",
    "a_table.head()"
   ]
  },
  {
   "cell_type": "markdown",
   "metadata": {},
   "source": [
    "### 2.4 Pre-processing\n",
    "As we need to visualize the data across time, new tables are made\n",
    "1. arrest counts for time, sex, and race"
   ]
  },
  {
   "cell_type": "code",
   "execution_count": 53,
   "metadata": {},
   "outputs": [
    {
     "data": {
      "text/html": [
       "<div>\n",
       "<style scoped>\n",
       "    .dataframe tbody tr th:only-of-type {\n",
       "        vertical-align: middle;\n",
       "    }\n",
       "\n",
       "    .dataframe tbody tr th {\n",
       "        vertical-align: top;\n",
       "    }\n",
       "\n",
       "    .dataframe thead th {\n",
       "        text-align: right;\n",
       "    }\n",
       "</style>\n",
       "<table border=\"1\" class=\"dataframe\">\n",
       "  <thead>\n",
       "    <tr style=\"text-align: right;\">\n",
       "      <th></th>\n",
       "      <th>Time</th>\n",
       "      <th>F</th>\n",
       "      <th>M</th>\n",
       "      <th>African_American</th>\n",
       "      <th>White</th>\n",
       "      <th>Indian_American</th>\n",
       "      <th>Asian</th>\n",
       "      <th>Pacific_Islander</th>\n",
       "    </tr>\n",
       "  </thead>\n",
       "  <tbody>\n",
       "    <tr>\n",
       "      <th>0</th>\n",
       "      <td>2011-1</td>\n",
       "      <td>0</td>\n",
       "      <td>0</td>\n",
       "      <td>0</td>\n",
       "      <td>0</td>\n",
       "      <td>0</td>\n",
       "      <td>0</td>\n",
       "      <td>0</td>\n",
       "    </tr>\n",
       "    <tr>\n",
       "      <th>1</th>\n",
       "      <td>2011-2</td>\n",
       "      <td>0</td>\n",
       "      <td>0</td>\n",
       "      <td>0</td>\n",
       "      <td>0</td>\n",
       "      <td>0</td>\n",
       "      <td>0</td>\n",
       "      <td>0</td>\n",
       "    </tr>\n",
       "    <tr>\n",
       "      <th>2</th>\n",
       "      <td>2011-3</td>\n",
       "      <td>0</td>\n",
       "      <td>0</td>\n",
       "      <td>0</td>\n",
       "      <td>0</td>\n",
       "      <td>0</td>\n",
       "      <td>0</td>\n",
       "      <td>0</td>\n",
       "    </tr>\n",
       "    <tr>\n",
       "      <th>3</th>\n",
       "      <td>2011-4</td>\n",
       "      <td>0</td>\n",
       "      <td>0</td>\n",
       "      <td>0</td>\n",
       "      <td>0</td>\n",
       "      <td>0</td>\n",
       "      <td>0</td>\n",
       "      <td>0</td>\n",
       "    </tr>\n",
       "    <tr>\n",
       "      <th>4</th>\n",
       "      <td>2011-5</td>\n",
       "      <td>0</td>\n",
       "      <td>0</td>\n",
       "      <td>0</td>\n",
       "      <td>0</td>\n",
       "      <td>0</td>\n",
       "      <td>0</td>\n",
       "      <td>0</td>\n",
       "    </tr>\n",
       "  </tbody>\n",
       "</table>\n",
       "</div>"
      ],
      "text/plain": [
       "     Time  F  M  African_American  White  Indian_American  Asian  \\\n",
       "0  2011-1  0  0                 0      0                0      0   \n",
       "1  2011-2  0  0                 0      0                0      0   \n",
       "2  2011-3  0  0                 0      0                0      0   \n",
       "3  2011-4  0  0                 0      0                0      0   \n",
       "4  2011-5  0  0                 0      0                0      0   \n",
       "\n",
       "   Pacific_Islander  \n",
       "0                 0  \n",
       "1                 0  \n",
       "2                 0  \n",
       "3                 0  \n",
       "4                 0  "
      ]
     },
     "execution_count": 53,
     "metadata": {},
     "output_type": "execute_result"
    }
   ],
   "source": [
    "# create a new table about time, sex, and race\n",
    "time_df = pd.DataFrame(data=a_table['arrestDate'])\n",
    "time_line = pd.unique(a_table['arrestDate'])\n",
    "time_df = pd.DataFrame(time_line, columns = ['Time'])\n",
    "time_df['F'] = 0\n",
    "time_df['M'] = 0\n",
    "time_df['African_American'] = 0\n",
    "time_df['White'] = 0\n",
    "time_df['Indian_American'] = 0\n",
    "time_df['Asian'] = 0\n",
    "time_df['Pacific_Islander'] = 0\n",
    "time_df.head()"
   ]
  },
  {
   "cell_type": "code",
   "execution_count": 54,
   "metadata": {},
   "outputs": [],
   "source": [
    "# add data to the table\n",
    "time_df['F'] = a_table[a_table['sex'] == 'F'].groupby(by='arrestDate', as_index = False)['sex'].count()['sex']\n",
    "time_df['M'] = a_table[a_table['sex'] == 'M'].groupby(by='arrestDate', as_index = False)['sex'].count()['sex']\n",
    "time_df['African_American'] = a_table[a_table['race'] == 'B'].groupby(by='arrestDate', as_index = False)['race'].count()['race']\n",
    "time_df['White'] = a_table[a_table['race'] == 'W'].groupby(by='arrestDate', as_index = False)['race'].count()['race']\n",
    "time_df['Indian_American'] = a_table[a_table['race'] == 'I'].groupby(by='arrestDate', as_index = False)['race'].count()['race']\n",
    "time_df['Asian'] = a_table[a_table['race'] == 'A'].groupby(by='arrestDate', as_index = False)['race'].count()['race']\n",
    "time_df['Pacific_Islander'] = a_table[a_table['race'] == 'A'].groupby(by='arrestDate', as_index = False)['race'].count()['race']"
   ]
  },
  {
   "cell_type": "code",
   "execution_count": 55,
   "metadata": {},
   "outputs": [
    {
     "data": {
      "text/html": [
       "<div>\n",
       "<style scoped>\n",
       "    .dataframe tbody tr th:only-of-type {\n",
       "        vertical-align: middle;\n",
       "    }\n",
       "\n",
       "    .dataframe tbody tr th {\n",
       "        vertical-align: top;\n",
       "    }\n",
       "\n",
       "    .dataframe thead th {\n",
       "        text-align: right;\n",
       "    }\n",
       "</style>\n",
       "<table border=\"1\" class=\"dataframe\">\n",
       "  <thead>\n",
       "    <tr style=\"text-align: right;\">\n",
       "      <th></th>\n",
       "      <th>Time</th>\n",
       "      <th>F</th>\n",
       "      <th>M</th>\n",
       "      <th>African_American</th>\n",
       "      <th>White</th>\n",
       "      <th>Indian_American</th>\n",
       "      <th>Asian</th>\n",
       "      <th>Pacific_Islander</th>\n",
       "    </tr>\n",
       "  </thead>\n",
       "  <tbody>\n",
       "    <tr>\n",
       "      <th>0</th>\n",
       "      <td>2011-1</td>\n",
       "      <td>657</td>\n",
       "      <td>2954</td>\n",
       "      <td>3038</td>\n",
       "      <td>490</td>\n",
       "      <td>7</td>\n",
       "      <td>12</td>\n",
       "      <td>12</td>\n",
       "    </tr>\n",
       "    <tr>\n",
       "      <th>1</th>\n",
       "      <td>2011-2</td>\n",
       "      <td>815</td>\n",
       "      <td>3788</td>\n",
       "      <td>3880</td>\n",
       "      <td>626</td>\n",
       "      <td>7</td>\n",
       "      <td>7</td>\n",
       "      <td>7</td>\n",
       "    </tr>\n",
       "    <tr>\n",
       "      <th>2</th>\n",
       "      <td>2011-3</td>\n",
       "      <td>735</td>\n",
       "      <td>3415</td>\n",
       "      <td>3463</td>\n",
       "      <td>579</td>\n",
       "      <td>14</td>\n",
       "      <td>9</td>\n",
       "      <td>9</td>\n",
       "    </tr>\n",
       "    <tr>\n",
       "      <th>3</th>\n",
       "      <td>2011-4</td>\n",
       "      <td>694</td>\n",
       "      <td>3282</td>\n",
       "      <td>3338</td>\n",
       "      <td>543</td>\n",
       "      <td>10</td>\n",
       "      <td>8</td>\n",
       "      <td>8</td>\n",
       "    </tr>\n",
       "    <tr>\n",
       "      <th>4</th>\n",
       "      <td>2011-5</td>\n",
       "      <td>734</td>\n",
       "      <td>3251</td>\n",
       "      <td>3343</td>\n",
       "      <td>545</td>\n",
       "      <td>11</td>\n",
       "      <td>9</td>\n",
       "      <td>9</td>\n",
       "    </tr>\n",
       "  </tbody>\n",
       "</table>\n",
       "</div>"
      ],
      "text/plain": [
       "     Time    F     M  African_American  White  Indian_American  Asian  \\\n",
       "0  2011-1  657  2954              3038    490                7     12   \n",
       "1  2011-2  815  3788              3880    626                7      7   \n",
       "2  2011-3  735  3415              3463    579               14      9   \n",
       "3  2011-4  694  3282              3338    543               10      8   \n",
       "4  2011-5  734  3251              3343    545               11      9   \n",
       "\n",
       "   Pacific_Islander  \n",
       "0                12  \n",
       "1                 7  \n",
       "2                 9  \n",
       "3                 8  \n",
       "4                 9  "
      ]
     },
     "execution_count": 55,
     "metadata": {},
     "output_type": "execute_result"
    }
   ],
   "source": [
    "time_df.head()"
   ]
  },
  {
   "cell_type": "markdown",
   "metadata": {},
   "source": [
    "## 3. Data visualization & Analysis\n",
    "We analysis the data in two category: overall over 2011-2012 and the trend over the two years. "
   ]
  },
  {
   "cell_type": "markdown",
   "metadata": {},
   "source": [
    "### 3.1 Overall distribution"
   ]
  },
  {
   "cell_type": "markdown",
   "metadata": {},
   "source": [
    "#### 3.1.1 Age"
   ]
  },
  {
   "cell_type": "code",
   "execution_count": 56,
   "metadata": {},
   "outputs": [
    {
     "data": {
      "image/png": "[encoded data removed]",
      "text/plain": [
       "<Figure size 432x288 with 1 Axes>"
      ]
     },
     "metadata": {
      "needs_background": "light"
     },
     "output_type": "display_data"
    }
   ],
   "source": [
    "# bar plot of age distribution\n",
    "sns.barplot(x=age_label, y=age_count)\n",
    "plt.title(\"Arrest Numbers vs. Age During 2011-2012\")\n",
    "plt.show()"
   ]
  },
  {
   "cell_type": "markdown",
   "metadata": {},
   "source": [
    "The number of arrest of age 20 to 29 is obviously the higest among all any other groups. The overall distribution is consistant to the common sense. \n",
    "However, the age from 17 to 29 jumps a lot. Hence, An additional statistics need to be mentioned here. The juvenile crime used to be a main issue over the country, especially Baltimore district. However, The juvenile crime rate has been dropping incredibly since 2000. The data from https://datacenter.kidscount.org/data/tables/4461-juvenile-arrests?loc=22&loct=2#detailed/3/106/false/573,869,36,868,867,133,38,35,18/any/10020,15102 aside the dataset we use is provided and a line plot is done below."
   ]
  },
  {
   "cell_type": "code",
   "execution_count": 57,
   "metadata": {},
   "outputs": [
    {
     "data": {
      "text/html": [
       "<div>\n",
       "<style scoped>\n",
       "    .dataframe tbody tr th:only-of-type {\n",
       "        vertical-align: middle;\n",
       "    }\n",
       "\n",
       "    .dataframe tbody tr th {\n",
       "        vertical-align: top;\n",
       "    }\n",
       "\n",
       "    .dataframe thead th {\n",
       "        text-align: right;\n",
       "    }\n",
       "</style>\n",
       "<table border=\"1\" class=\"dataframe\">\n",
       "  <thead>\n",
       "    <tr style=\"text-align: right;\">\n",
       "      <th></th>\n",
       "      <th>LocationType</th>\n",
       "      <th>Location</th>\n",
       "      <th>TimeFrame</th>\n",
       "      <th>DataFormat</th>\n",
       "      <th>Data</th>\n",
       "    </tr>\n",
       "  </thead>\n",
       "  <tbody>\n",
       "    <tr>\n",
       "      <th>30</th>\n",
       "      <td>City</td>\n",
       "      <td>Baltimore</td>\n",
       "      <td>2005</td>\n",
       "      <td>Number</td>\n",
       "      <td>10628.0</td>\n",
       "    </tr>\n",
       "    <tr>\n",
       "      <th>32</th>\n",
       "      <td>City</td>\n",
       "      <td>Baltimore</td>\n",
       "      <td>2006</td>\n",
       "      <td>Number</td>\n",
       "      <td>10547.0</td>\n",
       "    </tr>\n",
       "    <tr>\n",
       "      <th>34</th>\n",
       "      <td>City</td>\n",
       "      <td>Baltimore</td>\n",
       "      <td>2007</td>\n",
       "      <td>Number</td>\n",
       "      <td>8681.0</td>\n",
       "    </tr>\n",
       "    <tr>\n",
       "      <th>36</th>\n",
       "      <td>City</td>\n",
       "      <td>Baltimore</td>\n",
       "      <td>2008</td>\n",
       "      <td>Number</td>\n",
       "      <td>8179.0</td>\n",
       "    </tr>\n",
       "    <tr>\n",
       "      <th>38</th>\n",
       "      <td>City</td>\n",
       "      <td>Baltimore</td>\n",
       "      <td>2009</td>\n",
       "      <td>Number</td>\n",
       "      <td>6581.0</td>\n",
       "    </tr>\n",
       "    <tr>\n",
       "      <th>40</th>\n",
       "      <td>City</td>\n",
       "      <td>Baltimore</td>\n",
       "      <td>2010</td>\n",
       "      <td>Number</td>\n",
       "      <td>5547.0</td>\n",
       "    </tr>\n",
       "    <tr>\n",
       "      <th>42</th>\n",
       "      <td>City</td>\n",
       "      <td>Baltimore</td>\n",
       "      <td>2011</td>\n",
       "      <td>Number</td>\n",
       "      <td>4227.0</td>\n",
       "    </tr>\n",
       "    <tr>\n",
       "      <th>44</th>\n",
       "      <td>City</td>\n",
       "      <td>Baltimore</td>\n",
       "      <td>2012</td>\n",
       "      <td>Number</td>\n",
       "      <td>4139.0</td>\n",
       "    </tr>\n",
       "    <tr>\n",
       "      <th>46</th>\n",
       "      <td>City</td>\n",
       "      <td>Baltimore</td>\n",
       "      <td>2013</td>\n",
       "      <td>Number</td>\n",
       "      <td>3726.0</td>\n",
       "    </tr>\n",
       "    <tr>\n",
       "      <th>48</th>\n",
       "      <td>City</td>\n",
       "      <td>Baltimore</td>\n",
       "      <td>2014</td>\n",
       "      <td>Number</td>\n",
       "      <td>3439.0</td>\n",
       "    </tr>\n",
       "    <tr>\n",
       "      <th>50</th>\n",
       "      <td>City</td>\n",
       "      <td>Baltimore</td>\n",
       "      <td>2015</td>\n",
       "      <td>Number</td>\n",
       "      <td>2544.0</td>\n",
       "    </tr>\n",
       "    <tr>\n",
       "      <th>52</th>\n",
       "      <td>City</td>\n",
       "      <td>Baltimore</td>\n",
       "      <td>2016</td>\n",
       "      <td>Number</td>\n",
       "      <td>2138.0</td>\n",
       "    </tr>\n",
       "    <tr>\n",
       "      <th>54</th>\n",
       "      <td>City</td>\n",
       "      <td>Baltimore</td>\n",
       "      <td>2017</td>\n",
       "      <td>Number</td>\n",
       "      <td>2447.0</td>\n",
       "    </tr>\n",
       "    <tr>\n",
       "      <th>56</th>\n",
       "      <td>City</td>\n",
       "      <td>Baltimore</td>\n",
       "      <td>2018</td>\n",
       "      <td>Number</td>\n",
       "      <td>1597.0</td>\n",
       "    </tr>\n",
       "    <tr>\n",
       "      <th>58</th>\n",
       "      <td>City</td>\n",
       "      <td>Baltimore</td>\n",
       "      <td>2019</td>\n",
       "      <td>Number</td>\n",
       "      <td>1366.0</td>\n",
       "    </tr>\n",
       "  </tbody>\n",
       "</table>\n",
       "</div>"
      ],
      "text/plain": [
       "   LocationType   Location  TimeFrame DataFormat     Data\n",
       "30         City  Baltimore       2005     Number  10628.0\n",
       "32         City  Baltimore       2006     Number  10547.0\n",
       "34         City  Baltimore       2007     Number   8681.0\n",
       "36         City  Baltimore       2008     Number   8179.0\n",
       "38         City  Baltimore       2009     Number   6581.0\n",
       "40         City  Baltimore       2010     Number   5547.0\n",
       "42         City  Baltimore       2011     Number   4227.0\n",
       "44         City  Baltimore       2012     Number   4139.0\n",
       "46         City  Baltimore       2013     Number   3726.0\n",
       "48         City  Baltimore       2014     Number   3439.0\n",
       "50         City  Baltimore       2015     Number   2544.0\n",
       "52         City  Baltimore       2016     Number   2138.0\n",
       "54         City  Baltimore       2017     Number   2447.0\n",
       "56         City  Baltimore       2018     Number   1597.0\n",
       "58         City  Baltimore       2019     Number   1366.0"
      ]
     },
     "execution_count": 57,
     "metadata": {},
     "output_type": "execute_result"
    }
   ],
   "source": [
    "juv_df = pd.read_excel('Juvenile arrests.xlsx')\n",
    "juv_df = juv_df[juv_df['Location'] == 'Baltimore']\n",
    "juv_df = juv_df[juv_df['DataFormat'] == 'Number']\n",
    "juv_df"
   ]
  },
  {
   "cell_type": "code",
   "execution_count": 58,
   "metadata": {},
   "outputs": [
    {
     "data": {
      "image/png": "[encoded data removed]",
      "text/plain": [
       "<Figure size 432x288 with 1 Axes>"
      ]
     },
     "metadata": {
      "needs_background": "light"
     },
     "output_type": "display_data"
    }
   ],
   "source": [
    "plt.plot(juv_df['TimeFrame'], juv_df['Data'])\n",
    "plt.title('Juvenile Arrest Count vs. Year')\n",
    "plt.xlabel('Year')\n",
    "plt.ylabel('Juvenile Arrest Count')\n",
    "plt.show()"
   ]
  },
  {
   "cell_type": "markdown",
   "metadata": {},
   "source": [
    "It can be noticed that among all the age groups, the dropping of arrest count of juvenile is the most obvious, which is a good thing. And it can be also notified that the crime eduation of juvenile has been doing a great work and the police should move the attention to the 18~30 age group."
   ]
  },
  {
   "cell_type": "markdown",
   "metadata": {},
   "source": [
    "#### 3.1.2 Top 20 offenses"
   ]
  },
  {
   "cell_type": "code",
   "execution_count": 59,
   "metadata": {},
   "outputs": [],
   "source": [
    "# bar plot for top 20 offense and the rest\n",
    "a_table['offense_type'].astype(int)\n",
    "offense_range = list(set(a_table['offense_type']))\n",
    "offense_count = [0]*len(offense_range)\n",
    "\n",
    "for idx, row in a_table.iterrows():\n",
    "  offense_count[offense_range.index(row['offense_type'])] += 1\n",
    "\n",
    "offense = {'type':offense_range, 'count':offense_count}\n",
    "df_offense = pd.DataFrame(offense)\n",
    "df_offense.sort_values(by='count', ascending=False, inplace=True)\n",
    "\n",
    "offense_others = df_offense[21:]\n",
    "\n",
    "sum = offense_others.sum(axis=0)['count']\n",
    "df_sum = pd.DataFrame(columns=['type', 'count'])\n",
    "df_sum = df_sum.append({'type': \"rest\", 'count': sum}, ignore_index=True)\n",
    "\n",
    "x_count = df_offense[1:21]\n",
    "x_count = x_count.append(df_sum)"
   ]
  },
  {
   "cell_type": "code",
   "execution_count": 60,
   "metadata": {},
   "outputs": [
    {
     "data": {
      "image/png": "[encoded data removed]",
      "text/plain": [
       "<Figure size 576x432 with 1 Axes>"
      ]
     },
     "metadata": {
      "needs_background": "light"
     },
     "output_type": "display_data"
    }
   ],
   "source": [
    "label = [\n",
    "    '87-Narcotics',\n",
    "    '4-Agg. Asslt.',\n",
    "    '97-Search & Seizure',\n",
    "    '79-Other',\n",
    "    '24-Towed Vehicle',\n",
    "    '6-Larceny',\n",
    "    '55-Disorderly Person',\n",
    "    '3-Robbery',\n",
    "    '5-Burglary',\n",
    "    '115-Trespassing',\n",
    "    '75-Destruct. Of Property',\n",
    "    '61-Person Wanted On War',\n",
    "    '7-Stolen Property',\n",
    "    '54-Armed Person',\n",
    "    '2-Sexual Asslt.',\n",
    "    '20-Traffic',\n",
    "    '49-Family Disturbance',\n",
    "    '26-Recovered Vehicle',\n",
    "    '78-Gambling',\n",
    "    '111-Protective Order',\n",
    "    'rest'\n",
    "]\n",
    "plt.figure(figsize=(8,6))\n",
    "sns.barplot(x=x_count['count'], y=label)\n",
    "plt.title(\"top 20 offense types and the rest\")\n",
    "plt.show()"
   ]
  },
  {
   "cell_type": "markdown",
   "metadata": {},
   "source": [
    "Top 1 aside \"Unknown offense\" is Narcotics, which is not surprising based on the fact that pot's smell can be noticed on almost daily bases even in College Park. Top 2 is not surprising either. With the high rate of firearm in Baltimore district, it is very likely to be assaulted on the street while the offenser is holding a gun or knife. \n",
    "\n",
    "However, there are some types that is not easily noticed. For example, 61-Person Wanted On War or 78-Gambling. This is the top 20 among about 100 types of offense. So Gambling is higher than we thought. Moreover, there is a category of \"Unknown offense\" not graphed in the chart, which is about 1/3 of all the data. This is one thing that we cannot figure out why."
   ]
  },
  {
   "cell_type": "markdown",
   "metadata": {},
   "source": [
    "#### 3.1.3 District "
   ]
  },
  {
   "cell_type": "code",
   "execution_count": 61,
   "metadata": {},
   "outputs": [
    {
     "data": {
      "image/png": "[encoded data removed]",
      "text/plain": [
       "<Figure size 432x288 with 1 Axes>"
      ]
     },
     "metadata": {},
     "output_type": "display_data"
    }
   ],
   "source": [
    "# pie chart for district distribution\n",
    "district_range = list(set(a_table['district']))\n",
    "district_labels = ['NORTHWESTERN', 'SOUTHWESTERN', 'NORTHERN', 'NORTHEASTERN', 'WESTERN', 'SOUTHERN', 'EASTERN', 'CENTRAL', 'SOUTHEASTERN']\n",
    "district_count = [0]*len(district_range)\n",
    "\n",
    "for idx, row in a_table.iterrows():\n",
    "  district_count[district_range.index(row['district'])] += 1\n",
    "\n",
    "# drop district nan\n",
    "district_range.pop(0)\n",
    "district_count.pop(0)\n",
    "\n",
    "# plot\n",
    "plt.pie(district_count, labels = district_labels, autopct='%1.1f%%')\n",
    "plt.show()"
   ]
  },
  {
   "cell_type": "markdown",
   "metadata": {},
   "source": [
    "It can be noticed from the pie chart that \"WESTERN\" district has the lowest arrest rate while \"SOUTHEASTERN\" has the highest. This number can be explained by the resident distribution in Baltimore. Therefore, it can be concluded that there is no such district that is more dangerous or less dangerous than the others for both criminal and civilians."
   ]
  },
  {
   "cell_type": "code",
   "execution_count": 62,
   "metadata": {},
   "outputs": [
    {
     "data": {
      "text/plain": [
       "<matplotlib.collections.PathCollection at 0x26e62c4c8b0>"
      ]
     },
     "execution_count": 62,
     "metadata": {},
     "output_type": "execute_result"
    },
    {
     "data": {
      "image/png": "[encoded data removed]",
      "text/plain": [
       "<Figure size 432x288 with 1 Axes>"
      ]
     },
     "metadata": {
      "needs_background": "light"
     },
     "output_type": "display_data"
    }
   ],
   "source": [
    "plt.scatter(arrest_table['lat'],arrest_table['long'],alpha=0.005)"
   ]
  },
  {
   "cell_type": "markdown",
   "metadata": {},
   "source": [
    "This is the distribution map of recorded arrested cases in Baltimore by its location, and from this plot, we can see that the cases are overall uniformly distributed in Baltimore with the least in Western, which states the result we get from the last pie plot. Also, it is pretty interesting that although we know the arrested cases in central part is not the highest, but it is the most intenive in central part, which we speculate that it is because the higer crime rate neighborhoods are often close to each other, and sometimes when a neighboorhood has a frequent crime rate, it would also impact its adjacent communities. "
   ]
  },
  {
   "cell_type": "markdown",
   "metadata": {},
   "source": [
    "### 3.2 Changes over time (Monthly)"
   ]
  },
  {
   "cell_type": "markdown",
   "metadata": {},
   "source": [
    "#### 3.2.1 By gender"
   ]
  },
  {
   "cell_type": "code",
   "execution_count": 63,
   "metadata": {},
   "outputs": [
    {
     "name": "stderr",
     "output_type": "stream",
     "text": [
      "C:\\Users\\Tianyu Zhang\\anaconda3\\lib\\site-packages\\seaborn\\_decorators.py:36: FutureWarning: Pass the following variables as keyword args: x, y. From version 0.12, the only valid positional argument will be `data`, and passing other arguments without an explicit keyword will result in an error or misinterpretation.\n",
      "  warnings.warn(\n",
      "C:\\Users\\Tianyu Zhang\\anaconda3\\lib\\site-packages\\seaborn\\_decorators.py:36: FutureWarning: Pass the following variables as keyword args: x, y. From version 0.12, the only valid positional argument will be `data`, and passing other arguments without an explicit keyword will result in an error or misinterpretation.\n",
      "  warnings.warn(\n"
     ]
    },
    {
     "data": {
      "image/png": "[encoded data removed]",
      "text/plain": [
       "<Figure size 864x720 with 1 Axes>"
      ]
     },
     "metadata": {
      "needs_background": "light"
     },
     "output_type": "display_data"
    }
   ],
   "source": [
    "plt.figure(figsize=(12,10))\n",
    "plt.title('Crime Number changes by Gender Monthly from 2011 to 2012', fontsize=20)\n",
    "sns.lineplot(time_df.Time, time_df.F,ci=None)\n",
    "sns.lineplot(time_df.Time, time_df.M,ci=None)\n",
    "plt.legend([\"Female\", 'Male'])\n",
    "plt.show()"
   ]
  },
  {
   "cell_type": "markdown",
   "metadata": {},
   "source": [
    "#### 3.2.2 By race"
   ]
  },
  {
   "cell_type": "code",
   "execution_count": 64,
   "metadata": {},
   "outputs": [
    {
     "data": {
      "text/html": [
       "<div>\n",
       "<style scoped>\n",
       "    .dataframe tbody tr th:only-of-type {\n",
       "        vertical-align: middle;\n",
       "    }\n",
       "\n",
       "    .dataframe tbody tr th {\n",
       "        vertical-align: top;\n",
       "    }\n",
       "\n",
       "    .dataframe thead th {\n",
       "        text-align: right;\n",
       "    }\n",
       "</style>\n",
       "<table border=\"1\" class=\"dataframe\">\n",
       "  <thead>\n",
       "    <tr style=\"text-align: right;\">\n",
       "      <th></th>\n",
       "      <th>Time</th>\n",
       "      <th>F</th>\n",
       "      <th>M</th>\n",
       "      <th>African_American</th>\n",
       "      <th>White</th>\n",
       "      <th>Indian_American</th>\n",
       "      <th>Asian</th>\n",
       "      <th>Pacific_Islander</th>\n",
       "    </tr>\n",
       "  </thead>\n",
       "  <tbody>\n",
       "    <tr>\n",
       "      <th>0</th>\n",
       "      <td>2011-1</td>\n",
       "      <td>657</td>\n",
       "      <td>2954</td>\n",
       "      <td>3038</td>\n",
       "      <td>490</td>\n",
       "      <td>7</td>\n",
       "      <td>12</td>\n",
       "      <td>12</td>\n",
       "    </tr>\n",
       "    <tr>\n",
       "      <th>1</th>\n",
       "      <td>2011-2</td>\n",
       "      <td>815</td>\n",
       "      <td>3788</td>\n",
       "      <td>3880</td>\n",
       "      <td>626</td>\n",
       "      <td>7</td>\n",
       "      <td>7</td>\n",
       "      <td>7</td>\n",
       "    </tr>\n",
       "    <tr>\n",
       "      <th>2</th>\n",
       "      <td>2011-3</td>\n",
       "      <td>735</td>\n",
       "      <td>3415</td>\n",
       "      <td>3463</td>\n",
       "      <td>579</td>\n",
       "      <td>14</td>\n",
       "      <td>9</td>\n",
       "      <td>9</td>\n",
       "    </tr>\n",
       "    <tr>\n",
       "      <th>3</th>\n",
       "      <td>2011-4</td>\n",
       "      <td>694</td>\n",
       "      <td>3282</td>\n",
       "      <td>3338</td>\n",
       "      <td>543</td>\n",
       "      <td>10</td>\n",
       "      <td>8</td>\n",
       "      <td>8</td>\n",
       "    </tr>\n",
       "    <tr>\n",
       "      <th>4</th>\n",
       "      <td>2011-5</td>\n",
       "      <td>734</td>\n",
       "      <td>3251</td>\n",
       "      <td>3343</td>\n",
       "      <td>545</td>\n",
       "      <td>11</td>\n",
       "      <td>9</td>\n",
       "      <td>9</td>\n",
       "    </tr>\n",
       "  </tbody>\n",
       "</table>\n",
       "</div>"
      ],
      "text/plain": [
       "     Time    F     M  African_American  White  Indian_American  Asian  \\\n",
       "0  2011-1  657  2954              3038    490                7     12   \n",
       "1  2011-2  815  3788              3880    626                7      7   \n",
       "2  2011-3  735  3415              3463    579               14      9   \n",
       "3  2011-4  694  3282              3338    543               10      8   \n",
       "4  2011-5  734  3251              3343    545               11      9   \n",
       "\n",
       "   Pacific_Islander  \n",
       "0                12  \n",
       "1                 7  \n",
       "2                 9  \n",
       "3                 8  \n",
       "4                 9  "
      ]
     },
     "execution_count": 64,
     "metadata": {},
     "output_type": "execute_result"
    }
   ],
   "source": [
    "time_df.head()"
   ]
  },
  {
   "cell_type": "code",
   "execution_count": 65,
   "metadata": {},
   "outputs": [
    {
     "name": "stderr",
     "output_type": "stream",
     "text": [
      "C:\\Users\\Tianyu Zhang\\anaconda3\\lib\\site-packages\\seaborn\\_decorators.py:36: FutureWarning: Pass the following variables as keyword args: x, y. From version 0.12, the only valid positional argument will be `data`, and passing other arguments without an explicit keyword will result in an error or misinterpretation.\n",
      "  warnings.warn(\n",
      "C:\\Users\\Tianyu Zhang\\anaconda3\\lib\\site-packages\\seaborn\\_decorators.py:36: FutureWarning: Pass the following variables as keyword args: x, y. From version 0.12, the only valid positional argument will be `data`, and passing other arguments without an explicit keyword will result in an error or misinterpretation.\n",
      "  warnings.warn(\n",
      "C:\\Users\\Tianyu Zhang\\anaconda3\\lib\\site-packages\\seaborn\\_decorators.py:36: FutureWarning: Pass the following variables as keyword args: x, y. From version 0.12, the only valid positional argument will be `data`, and passing other arguments without an explicit keyword will result in an error or misinterpretation.\n",
      "  warnings.warn(\n",
      "C:\\Users\\Tianyu Zhang\\anaconda3\\lib\\site-packages\\seaborn\\_decorators.py:36: FutureWarning: Pass the following variables as keyword args: x, y. From version 0.12, the only valid positional argument will be `data`, and passing other arguments without an explicit keyword will result in an error or misinterpretation.\n",
      "  warnings.warn(\n",
      "C:\\Users\\Tianyu Zhang\\anaconda3\\lib\\site-packages\\seaborn\\_decorators.py:36: FutureWarning: Pass the following variables as keyword args: x, y. From version 0.12, the only valid positional argument will be `data`, and passing other arguments without an explicit keyword will result in an error or misinterpretation.\n",
      "  warnings.warn(\n"
     ]
    },
    {
     "data": {
      "image/png": "[encoded data removed]",
      "text/plain": [
       "<Figure size 864x720 with 1 Axes>"
      ]
     },
     "metadata": {
      "needs_background": "light"
     },
     "output_type": "display_data"
    }
   ],
   "source": [
    "plt.figure(figsize=(12,10))\n",
    "plt.title('Crime Number changes by Race Monthly from 2011 to 2012', fontsize=20)\n",
    "sns.lineplot(time_df.Time, time_df.African_American,ci=None)\n",
    "sns.lineplot(time_df.Time, time_df.White,ci=None)\n",
    "sns.lineplot(time_df.Time, time_df.Indian_American,ci=None)\n",
    "sns.lineplot(time_df.Time, time_df.Asian,ci=None)\n",
    "sns.lineplot(time_df.Time, time_df.Pacific_Islander,ci=None)\n",
    "plt.legend(['African_American', 'White','Indian_American', 'Asian', 'Pacific_Islander'])\n",
    "plt.show()"
   ]
  },
  {
   "cell_type": "markdown",
   "metadata": {},
   "source": [
    "It is pretty interesting since we can see that the trendencies of Male and African American in these two plots were almost same. In other words, the African American group and male group have a huge mutually possessive part. And also, we can see from this plot that the Asian, Indian American, and Pacific Islander have a very low occurence rate over these two years, which we believed is caused by their low population ratio in Baltimore. "
   ]
  },
  {
   "cell_type": "markdown",
   "metadata": {},
   "source": [
    "## 4. Machine Learning"
   ]
  },
  {
   "cell_type": "markdown",
   "metadata": {},
   "source": [
    "### Sin curve fitting for general arrest number pattern across time"
   ]
  },
  {
   "cell_type": "code",
   "execution_count": 66,
   "metadata": {},
   "outputs": [
    {
     "data": {
      "text/plain": [
       "<matplotlib.collections.PathCollection at 0x26e62141a00>"
      ]
     },
     "execution_count": 66,
     "metadata": {},
     "output_type": "execute_result"
    },
    {
     "data": {
      "image/png": "[encoded data removed]",
      "text/plain": [
       "<Figure size 1728x576 with 1 Axes>"
      ]
     },
     "metadata": {
      "needs_background": "light"
     },
     "output_type": "display_data"
    }
   ],
   "source": [
    "time_df['total'] = time_df['F'] + time_df['M']\n",
    "plt.figure(figsize=(24,8))\n",
    "plt.scatter(time_df['Time'], time_df['total'])"
   ]
  },
  {
   "cell_type": "code",
   "execution_count": 67,
   "metadata": {},
   "outputs": [
    {
     "name": "stdout",
     "output_type": "stream",
     "text": [
      "[406.63141624 100.01773594]\n"
     ]
    }
   ],
   "source": [
    "x = [1,2,3,4,5,6,7,8,9,10,11,12,13,14,15,16,17,18,19,20,21,22,23,24]\n",
    "y = time_df['total']\n",
    "\n",
    "def test_func(x, a, b):\n",
    "    return a * np.sin(b * np.array(x))\n",
    "\n",
    "params, params_cov = optimize.curve_fit(test_func, x, y, p0=[0, 100])\n",
    "\n",
    "print(params)"
   ]
  },
  {
   "cell_type": "code",
   "execution_count": 68,
   "metadata": {},
   "outputs": [
    {
     "data": {
      "image/png": "[encoded data removed]",
      "text/plain": [
       "<Figure size 1728x576 with 1 Axes>"
      ]
     },
     "metadata": {
      "needs_background": "light"
     },
     "output_type": "display_data"
    }
   ],
   "source": [
    "plt.figure(figsize=(24,8))\n",
    "plt.scatter(x, y, label='Data')\n",
    "plt.plot(x, test_func(x, params[0], params[1])+4300, label='Fitted function')\n",
    "plt.legend(loc='best')\n",
    "plt.show()"
   ]
  },
  {
   "cell_type": "markdown",
   "metadata": {},
   "source": [
    "**Note that 1~24 is the months from 2011-01 to 2012-12**\n",
    "\n",
    "It can be view from the fitting curve that the crime rate is high in the summer (2011-8 and 9 and 2012-8 and 9) and low in the winter (2011-3 and 4 and 2012-3 and 4). Theories from criminology also support this conclusion, stating that hot temperature makes people more restless and more likely to commit a crime.To testify our statement, we viewed some related resources and journals, and found this thought is also stated by Janet Lauritsen and Nicole White. Here is the link to their article. https://www.bjs.gov/content/pub/pdf/spcvt.pdf\n",
    "\n",
    "**Reference**\n",
    "Lauritsen, Janet L., and Nicole White. Seasonal patterns in criminal victimization trends. US Department of Justice, Office of Justice Programs, Bureau of Justice Statistics, 2014."
   ]
  },
  {
   "cell_type": "markdown",
   "metadata": {},
   "source": [
    "## 5. Final Thoughts\n",
    "\n",
    "The data is the arrest number from 2011-2012. Even though this is not the latest number that can reflect the status quo, it is still be used to study the arrest at that period of time and show suggestions to current policy.\n",
    "\n",
    "1. Crime prevention education\n",
    "\n",
    "It has been a long time since Baltimore stands in the center of crime education. Courses are made in schools by both the teachers and police officers. It is because statistics have shown that dropouts are more likely to get arrested. Education has a significant success based on the curve shown in 3.1.1. Therefore, further measures should be taken in public education instead of in schools to prevent crimes committed by people at the age of 19 to 50.\n",
    "\n",
    "2. Arrest doesn’t mean crime\n",
    "\n",
    "This database is about arrest numbers rather than crime numbers. People can get arrested for a number of reasons. For example, “suicide attempt” is listed as an incident offense, while it itself is not a crime. Similar offenses are “disorderly person,” which is listed in the top 10 offenses, “missing person,” “injured person,”… etc. Therefore, when doing further exploration of the database, we need to drop those data if the conclusion is needed for crime.\n",
    "\n",
    "3. Baltimore is not as dangerous as it is described\n",
    "\n",
    "Being the “most dangerous” place, Baltimore seems to be somewhere that you should never go to avoid being harmed. However, by looking at the top 20 offense types, it can be noticed most of the crimes committed are not that “attacking.” As long as you travel by car and try to avoid the people that are apparently high, you are safe."
   ]
  },
  {
   "cell_type": "code",
   "execution_count": null,
   "metadata": {},
   "outputs": [],
   "source": []
  }
 ],
 "metadata": {
  "kernelspec": {
   "display_name": "Python 3",
   "language": "python",
   "name": "python3"
  },
  "language_info": {
   "codemirror_mode": {
    "name": "ipython",
    "version": 3
   },
   "file_extension": ".py",
   "mimetype": "text/x-python",
   "name": "python",
   "nbconvert_exporter": "python",
   "pygments_lexer": "ipython3",
   "version": "3.8.5"
  }
 },
 "nbformat": 4,
 "nbformat_minor": 4
}
